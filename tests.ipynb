{
 "cells": [
  {
   "cell_type": "code",
   "execution_count": 1,
   "metadata": {},
   "outputs": [
    {
     "name": "stderr",
     "output_type": "stream",
     "text": [
      "[WARNING 2021-05-30 11:22:53,085 _showwarnmsg:109] /opt/anaconda3/lib/python3.8/site-packages/mxnet/gluon/block.py:1389: UserWarning: Cannot decide type for the following arguments. Consider providing them as input:\n",
      "\tdata: None\n",
      "  input_sym_arg_type = in_param.infer_type()[0]\n",
      " \n"
     ]
    }
   ],
   "source": [
    "from app.pkgs.texts import DFAFilter\n",
    "from app.pkgs.ocr import ImageToText\n",
    "\n",
    "import glob"
   ]
  },
  {
   "cell_type": "code",
   "execution_count": 3,
   "metadata": {},
   "outputs": [],
   "source": [
    "from app.config import config"
   ]
  },
  {
   "cell_type": "code",
   "execution_count": 1,
   "metadata": {},
   "outputs": [
    {
     "name": "stderr",
     "output_type": "stream",
     "text": [
      "[WARNING 2021-05-30 11:29:55,188 _showwarnmsg:109] /opt/anaconda3/lib/python3.8/site-packages/mxnet/gluon/block.py:1389: UserWarning: Cannot decide type for the following arguments. Consider providing them as input:\n",
      "\tdata: None\n",
      "  input_sym_arg_type = in_param.infer_type()[0]\n",
      " \n"
     ]
    }
   ],
   "source": [
    "from app.pkgs.parser import OCRTextParser"
   ]
  },
  {
   "cell_type": "code",
   "execution_count": 2,
   "metadata": {},
   "outputs": [
    {
     "data": {
      "text/plain": [
       "{'你丫就是个傻逼': True,\n",
       " '-': False,\n",
       " '<-': False,\n",
       " '枪支弹药买卖': True,\n",
       " '来看一下': False,\n",
       " '激情少妇点击观看视频': True,\n",
       " '今天天气不错': False}"
      ]
     },
     "execution_count": 2,
     "metadata": {},
     "output_type": "execute_result"
    }
   ],
   "source": [
    "parser = OCRTextParser()\n",
    "parser.parse('app/datasets/test_imgs/cece.png')   "
   ]
  },
  {
   "cell_type": "code",
   "execution_count": 1,
   "metadata": {},
   "outputs": [
    {
     "name": "stderr",
     "output_type": "stream",
     "text": [
      "[WARNING 2021-05-30 11:33:45,321 _showwarnmsg:109] /opt/anaconda3/lib/python3.8/site-packages/mxnet/gluon/block.py:1389: UserWarning: Cannot decide type for the following arguments. Consider providing them as input:\n",
      "\tdata: None\n",
      "  input_sym_arg_type = in_param.infer_type()[0]\n",
      " \n"
     ]
    }
   ],
   "source": [
    "from app.pkgs.parser import TextParser"
   ]
  },
  {
   "cell_type": "code",
   "execution_count": 2,
   "metadata": {},
   "outputs": [],
   "source": [
    "parser = TextParser()"
   ]
  },
  {
   "cell_type": "code",
   "execution_count": 7,
   "metadata": {},
   "outputs": [
    {
     "data": {
      "text/plain": [
       "{'激情电影': True}"
      ]
     },
     "execution_count": 7,
     "metadata": {},
     "output_type": "execute_result"
    }
   ],
   "source": [
    "parser.parse(['激情电影'])"
   ]
  },
  {
   "cell_type": "code",
   "execution_count": 10,
   "metadata": {},
   "outputs": [
    {
     "data": {
      "text/plain": [
       "'/Users/huan/desktop/OcrSentence/datasets/words.txt'"
      ]
     },
     "execution_count": 10,
     "metadata": {},
     "output_type": "execute_result"
    }
   ],
   "source": [
    "config['sensative_path']"
   ]
  },
  {
   "cell_type": "code",
   "execution_count": 4,
   "metadata": {},
   "outputs": [
    {
     "name": "stdout",
     "output_type": "stream",
     "text": [
      "{'sensative_path': '/Users/huan/desktop/OcrSentence/datasets/words.txt', 'word_vector_path': '/Users/huan/desktop/OcrSentence/datasets/Tencent_AILab_ChineseEmbedding/Tencent_AILab_ChineseEmbedding.txt'}\n"
     ]
    }
   ],
   "source": [
    "import yaml\n",
    "\n",
    "with open(\"config.yaml\", 'r') as stream:\n",
    "    try:\n",
    "        print(yaml.safe_load(stream))\n",
    "    except yaml.YAMLError as exc:\n",
    "        print(exc)"
   ]
  },
  {
   "cell_type": "code",
   "execution_count": 2,
   "metadata": {},
   "outputs": [
    {
     "data": {
      "text/plain": [
       "['datasets/test_imgs/testocr.png',\n",
       " 'datasets/test_imgs/src=http___dpic.tiankong.com_2b_m6_QJ6578876123.jpg_x-oss-process=style_show&refer=http___dpic.tiankong.jpg',\n",
       " 'datasets/test_imgs/part-00332-91.jpg',\n",
       " 'datasets/test_imgs/b0c4c1d1abdd593425ed98f7e85b7411.jpeg',\n",
       " 'datasets/test_imgs/src=http___s4.sinaimg.cn_middle_72e58bfc49ad4b3ef5613&690&refer=http___s4.sinaimg.jpg',\n",
       " 'datasets/test_imgs/a08b41f4e436dd66da9dfb0ebd35734f.jpeg',\n",
       " 'datasets/test_imgs/6253aebeb25a9d5913e1e2894de1145c.jpeg',\n",
       " 'datasets/test_imgs/0933d05f3552d16757dc380af681173e.jpeg']"
      ]
     },
     "execution_count": 2,
     "metadata": {},
     "output_type": "execute_result"
    }
   ],
   "source": [
    "IMAGE_PATHS = glob.glob(\"datasets/test_imgs/*\")"
   ]
  },
  {
   "cell_type": "code",
   "execution_count": 12,
   "metadata": {},
   "outputs": [],
   "source": [
    "texts = ImageToText().detect('datasets/test_imgs/cece.png')"
   ]
  },
  {
   "cell_type": "code",
   "execution_count": 13,
   "metadata": {},
   "outputs": [],
   "source": [
    "gfw = DFAFilter()\n",
    "gfw.parse(\"datasets/words.txt\")"
   ]
  },
  {
   "cell_type": "code",
   "execution_count": 15,
   "metadata": {},
   "outputs": [
    {
     "data": {
      "text/plain": [
       "True"
      ]
     },
     "execution_count": 15,
     "metadata": {},
     "output_type": "execute_result"
    }
   ],
   "source": [
    "any(gfw.is_contain_sensi_key_word(t) for t in texts)"
   ]
  },
  {
   "cell_type": "code",
   "execution_count": 40,
   "metadata": {},
   "outputs": [
    {
     "data": {
      "text/plain": [
       "False"
      ]
     },
     "execution_count": 40,
     "metadata": {},
     "output_type": "execute_result"
    }
   ],
   "source": [
    "gfw.is_contain_sensi_key_word('大胸')"
   ]
  },
  {
   "cell_type": "code",
   "execution_count": 19,
   "metadata": {},
   "outputs": [
    {
     "data": {
      "text/plain": [
       "True"
      ]
     },
     "execution_count": 19,
     "metadata": {},
     "output_type": "execute_result"
    }
   ],
   "source": [
    "result = {t:gfw.is_contain_sensi_key_word(t) for t in texts}\n",
    "is_contain = any(result.values())\n",
    "is_contain"
   ]
  },
  {
   "cell_type": "code",
   "execution_count": 20,
   "metadata": {},
   "outputs": [
    {
     "data": {
      "text/plain": [
       "{'你丫就是个傻逼': True,\n",
       " '-': False,\n",
       " '<-': False,\n",
       " '枪支弹药买卖': True,\n",
       " '来看一下': False,\n",
       " '激情少妇点击观看视频': True,\n",
       " '今天天气不错': False}"
      ]
     },
     "execution_count": 20,
     "metadata": {},
     "output_type": "execute_result"
    }
   ],
   "source": [
    "result"
   ]
  },
  {
   "cell_type": "code",
   "execution_count": 28,
   "metadata": {},
   "outputs": [],
   "source": [
    "class OCRTextParser():\n",
    "    def __init__(self, image_handler, text_handler):\n",
    "        self.image_handler = image_handler\n",
    "        self.text_handler = text_handler\n",
    "        self._initialize()\n",
    "        \n",
    "    def _initialize(self):\n",
    "        self.text_handler.parse(\"datasets/words.txt\")\n",
    "        \n",
    "    def parse(self, img_path):\n",
    "        texts = self.image_handler.detect(img_path)\n",
    "        return {t:self.text_handler.is_contain_sensi_key_word(t) \n",
    "                for t in texts}        "
   ]
  },
  {
   "cell_type": "code",
   "execution_count": 29,
   "metadata": {},
   "outputs": [
    {
     "data": {
      "text/plain": [
       "{'你丫就是个傻逼': True,\n",
       " '-': False,\n",
       " '<-': False,\n",
       " '枪支弹药买卖': True,\n",
       " '来看一下': False,\n",
       " '激情少妇点击观看视频': True,\n",
       " '今天天气不错': False}"
      ]
     },
     "execution_count": 29,
     "metadata": {},
     "output_type": "execute_result"
    }
   ],
   "source": [
    "parser = OCRTextParser(image_handler = ImageToText(), text_handler = DFAFilter())\n",
    "parser.parse('datasets/test_imgs/cece.png')   "
   ]
  },
  {
   "cell_type": "code",
   "execution_count": null,
   "metadata": {},
   "outputs": [],
   "source": [
    "import numpy as np\n",
    "import pymysql\n",
    "word2vec = {}\n",
    "\n",
    "conn = pymysql.connect(host = '127.0.0.1',user = 'root',password = 'root123',port = 3306, db ='wordvector')\n",
    "cursor = conn.cursor()\n",
    "\n",
    "\n",
    "with open('datasets/Tencent_AILab_ChineseEmbedding/Tencent_AILab_ChineseEmbedding.txt', 'r', encoding = 'utf-8') as f:\n",
    "    next(f)\n",
    "    for line in f:\n",
    "        try:\n",
    "            d = line.split(' ')\n",
    "            SQL = \"INSERT INTO WORD_VECTOR(WORD, VECTOR) VALUES('{}','{}')\".format(d[0],' '.join(d[1:]))\n",
    "            cursor.execute(SQL)\n",
    "        except:\n",
    "            print(d[0])\n",
    "        \n",
    "conn.commit()\n",
    "conn.close()"
   ]
  },
  {
   "cell_type": "code",
   "execution_count": 5,
   "metadata": {},
   "outputs": [],
   "source": [
    "# with pymysql.connect(host = '127.0.0.1',user = 'root',password = 'root123',port = 3306, db ='wordvector') as conn:\n",
    "#     cursor = conn.cursor()\n",
    "#     v = cursor.execute('select * from word_vector where word = \"我\"')"
   ]
  },
  {
   "cell_type": "code",
   "execution_count": 7,
   "metadata": {},
   "outputs": [
    {
     "name": "stdout",
     "output_type": "stream",
     "text": [
      "John Doe\n"
     ]
    }
   ],
   "source": [
    "def get_full_name(first_name: str, last_name: str):\n",
    "\n",
    "    full_name = first_name.title() + \" \" + last_name.title()\n",
    "    return full_name\n",
    "\n",
    "\n",
    "print(get_full_name(\"john\", \"doe\"))"
   ]
  },
  {
   "cell_type": "code",
   "execution_count": 9,
   "metadata": {},
   "outputs": [],
   "source": [
    "from datetime import datetime\n",
    "\n",
    "from typing import List, Optional\n",
    "\n",
    "from pydantic import BaseModel"
   ]
  },
  {
   "cell_type": "code",
   "execution_count": 18,
   "metadata": {},
   "outputs": [],
   "source": [
    "class User(BaseModel):\n",
    "    id:int\n",
    "    name = \"wanghuan\"\n",
    "    signup_ts: Optional[datetime] = None\n",
    "    friends: List[int] = []"
   ]
  },
  {
   "cell_type": "code",
   "execution_count": 19,
   "metadata": {},
   "outputs": [],
   "source": [
    "external_data = {\n",
    "    'id':1,\n",
    "    'signup_ts':datetime(2021,1,1),\n",
    "    'friends':[1,2,3,4]\n",
    "}"
   ]
  },
  {
   "cell_type": "code",
   "execution_count": 21,
   "metadata": {},
   "outputs": [],
   "source": [
    "user = User(**external_data)"
   ]
  },
  {
   "cell_type": "code",
   "execution_count": 22,
   "metadata": {},
   "outputs": [
    {
     "name": "stdout",
     "output_type": "stream",
     "text": [
      "[1, 2, 3, 4]\n"
     ]
    }
   ],
   "source": [
    "print(user.friends)"
   ]
  },
  {
   "cell_type": "code",
   "execution_count": 16,
   "metadata": {},
   "outputs": [],
   "source": [
    "r = {'a':False, \"b\":True}"
   ]
  },
  {
   "cell_type": "code",
   "execution_count": 17,
   "metadata": {},
   "outputs": [
    {
     "data": {
      "text/plain": [
       "True"
      ]
     },
     "execution_count": 17,
     "metadata": {},
     "output_type": "execute_result"
    }
   ],
   "source": [
    "any(r.values())"
   ]
  },
  {
   "cell_type": "code",
   "execution_count": 18,
   "metadata": {},
   "outputs": [
    {
     "data": {
      "text/plain": [
       "{'data': {'is_contain': True, 'detail': {'a': False, 'b': True}}}"
      ]
     },
     "execution_count": 18,
     "metadata": {},
     "output_type": "execute_result"
    }
   ],
   "source": []
  },
  {
   "cell_type": "code",
   "execution_count": null,
   "metadata": {},
   "outputs": [],
   "source": []
  }
 ],
 "metadata": {
  "kernelspec": {
   "display_name": "Python 3",
   "language": "python",
   "name": "python3"
  },
  "language_info": {
   "codemirror_mode": {
    "name": "ipython",
    "version": 3
   },
   "file_extension": ".py",
   "mimetype": "text/x-python",
   "name": "python",
   "nbconvert_exporter": "python",
   "pygments_lexer": "ipython3",
   "version": "3.8.3"
  }
 },
 "nbformat": 4,
 "nbformat_minor": 4
}
