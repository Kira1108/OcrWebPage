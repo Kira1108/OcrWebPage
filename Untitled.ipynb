{
 "cells": [
  {
   "cell_type": "code",
   "execution_count": 1,
   "metadata": {},
   "outputs": [],
   "source": [
    "import json\n",
    "import requests"
   ]
  },
  {
   "cell_type": "code",
   "execution_count": 10,
   "metadata": {},
   "outputs": [],
   "source": [
    "def get_page_result(json_data):\n",
    "    url = \"http://127.0.0.1:8000/page/\"\n",
    "\n",
    "    headers = {\n",
    "      'accept': 'application/json',\n",
    "      'Content-Type': 'application/json'\n",
    "    }\n",
    "\n",
    "    response = requests.request(\"POST\", url, headers=headers, json=json_data)\n",
    "    \n",
    "    return json.loads(response.content.decode('utf-8'))"
   ]
  },
  {
   "cell_type": "code",
   "execution_count": 11,
   "metadata": {},
   "outputs": [
    {
     "data": {
      "text/plain": [
       "{'id': '123',\n",
       " 'code': 1,\n",
       " 'img_result': [{'path': 'C:/Users/wanghuan/Desktop/OcrSentence/app/datasets/test_imgs/cece.png',\n",
       "   'is_contain': True,\n",
       "   'detail': {'你丫就是个傻逼': True,\n",
       "    '-': False,\n",
       "    '<-': False,\n",
       "    '枪支弹药买卖': True,\n",
       "    '来看一下': False,\n",
       "    '激情少妇点击观看视频': True,\n",
       "    '今天天气不错': False},\n",
       "   'status': 'success'}],\n",
       " 'text_result': {'is_contain': True,\n",
       "  'detail': {'你是傻逼吧': True, '枪支弹药': True, '天气不错哟': False}}}"
      ]
     },
     "execution_count": 11,
     "metadata": {},
     "output_type": "execute_result"
    }
   ],
   "source": [
    "json_data = {\n",
    "  \"id\": \"123\",\n",
    "  \"text\": [\n",
    "    \"你是傻逼吧\",\n",
    "    \"枪支弹药\",\n",
    "    \"天气不错哟\"\n",
    "  ],\n",
    "  \"paths\": [\n",
    "    \"C:/Users/wanghuan/Desktop/OcrSentence/app/datasets/test_imgs/cece.png\"\n",
    "  ]\n",
    "}\n",
    "\n",
    "get_page_result(json_data)"
   ]
  },
  {
   "cell_type": "code",
   "execution_count": null,
   "metadata": {},
   "outputs": [],
   "source": []
  }
 ],
 "metadata": {
  "kernelspec": {
   "display_name": "Python 3",
   "language": "python",
   "name": "python3"
  },
  "language_info": {
   "codemirror_mode": {
    "name": "ipython",
    "version": 3
   },
   "file_extension": ".py",
   "mimetype": "text/x-python",
   "name": "python",
   "nbconvert_exporter": "python",
   "pygments_lexer": "ipython3",
   "version": "3.8.3"
  }
 },
 "nbformat": 4,
 "nbformat_minor": 4
}
